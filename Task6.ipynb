{
 "cells": [
  {
   "cell_type": "code",
   "id": "initial_id",
   "metadata": {
    "collapsed": true,
    "ExecuteTime": {
     "end_time": "2025-02-26T10:58:17.791587Z",
     "start_time": "2025-02-26T10:58:17.777262Z"
    }
   },
   "source": "import cv2\n",
   "outputs": [],
   "execution_count": 42
  },
  {
   "metadata": {
    "ExecuteTime": {
     "end_time": "2025-02-26T11:05:04.866197Z",
     "start_time": "2025-02-26T11:05:04.792766Z"
    }
   },
   "cell_type": "code",
   "source": [
    "image = cv2.imread('images6/audi-798530_1280.jpg')\n",
    "cropped_image = image[427:522, 585:689]\n",
    "\n",
    "crop_height, crop_width, _ = cropped_image.shape\n",
    "print(\"Ширина кадрированного изображения:\", crop_width)\n",
    "print(\"Высота кадрированного изображения:\", crop_height)"
   ],
   "id": "391d8ae354fa0913",
   "outputs": [
    {
     "name": "stdout",
     "output_type": "stream",
     "text": [
      "Ширина кадрированного изображения: 104\n",
      "Высота кадрированного изображения: 95\n"
     ]
    }
   ],
   "execution_count": 51
  },
  {
   "metadata": {
    "ExecuteTime": {
     "end_time": "2025-02-26T11:05:06.342351Z",
     "start_time": "2025-02-26T11:05:06.329253Z"
    }
   },
   "cell_type": "code",
   "source": [
    "gray_image = cv2.cvtColor(image, cv2.COLOR_BGR2GRAY)\n",
    "gray_cropped = cv2.cvtColor(cropped_image, cv2.COLOR_BGR2GRAY)"
   ],
   "id": "81c21f904e09ed41",
   "outputs": [],
   "execution_count": 52
  },
  {
   "metadata": {
    "ExecuteTime": {
     "end_time": "2025-02-26T11:05:08.595102Z",
     "start_time": "2025-02-26T11:05:07.447840Z"
    }
   },
   "cell_type": "code",
   "source": [
    "sift = cv2.SIFT_create()\n",
    "kp1, des1 = sift.detectAndCompute(gray_cropped, None)\n",
    "kp2, des2 = sift.detectAndCompute(gray_image, None)\n",
    "\n",
    "index_params = dict(algorithm=1, trees=5)\n",
    "search_params = dict(checks=50)\n",
    "flann = cv2.FlannBasedMatcher(index_params, search_params)\n",
    "matches = flann.knnMatch(des1, des2, k=2)"
   ],
   "id": "310867010c6fa400",
   "outputs": [],
   "execution_count": 53
  },
  {
   "metadata": {
    "ExecuteTime": {
     "end_time": "2025-02-26T11:05:08.634472Z",
     "start_time": "2025-02-26T11:05:08.618265Z"
    }
   },
   "cell_type": "code",
   "source": [
    "good_matches = []\n",
    "for m, n in matches:\n",
    "    if m.distance < 0.7 * n.distance:\n",
    "        good_matches.append(m)\n",
    "\n",
    "sorted_matches = sorted(good_matches, key=lambda x: x.distance)\n",
    "\n",
    "best_match = sorted_matches[0]\n",
    "keypoint = kp2[best_match.trainIdx]\n",
    "x, y = int(round(keypoint.pt[0])), int(round(keypoint.pt[1]))\n",
    "print(\"Округленные координаты ключевой точки:\", x, y)"
   ],
   "id": "7d777c23b67a5a6d",
   "outputs": [
    {
     "name": "stdout",
     "output_type": "stream",
     "text": [
      "Округленные координаты ключевой точки: 620 493\n"
     ]
    }
   ],
   "execution_count": 54
  },
  {
   "metadata": {
    "ExecuteTime": {
     "end_time": "2025-02-26T11:05:09.944249Z",
     "start_time": "2025-02-26T11:05:09.928802Z"
    }
   },
   "cell_type": "code",
   "source": [
    "B, G, R = image[y, x]\n",
    "print(\"Интенсивность канала B:\", B)\n",
    "print(\"Интенсивность канала G:\", G)\n",
    "print(\"Интенсивность канала R:\", R)"
   ],
   "id": "a5bacab3dcc27c6c",
   "outputs": [
    {
     "name": "stdout",
     "output_type": "stream",
     "text": [
      "Интенсивность канала B: 131\n",
      "Интенсивность канала G: 150\n",
      "Интенсивность канала R: 155\n"
     ]
    }
   ],
   "execution_count": 55
  },
  {
   "metadata": {},
   "cell_type": "code",
   "outputs": [],
   "execution_count": null,
   "source": "",
   "id": "6df694841ef0d712"
  }
 ],
 "metadata": {
  "kernelspec": {
   "display_name": "Python 3",
   "language": "python",
   "name": "python3"
  },
  "language_info": {
   "codemirror_mode": {
    "name": "ipython",
    "version": 2
   },
   "file_extension": ".py",
   "mimetype": "text/x-python",
   "name": "python",
   "nbconvert_exporter": "python",
   "pygments_lexer": "ipython2",
   "version": "2.7.6"
  }
 },
 "nbformat": 4,
 "nbformat_minor": 5
}

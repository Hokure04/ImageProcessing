{
 "cells": [
  {
   "cell_type": "code",
   "id": "initial_id",
   "metadata": {
    "collapsed": true,
    "ExecuteTime": {
     "end_time": "2025-04-20T12:12:32.971768Z",
     "start_time": "2025-04-20T12:12:32.967877Z"
    }
   },
   "source": "import cv2\n",
   "outputs": [],
   "execution_count": 6
  },
  {
   "metadata": {
    "ExecuteTime": {
     "end_time": "2025-04-20T12:12:33.821689Z",
     "start_time": "2025-04-20T12:12:33.784587Z"
    }
   },
   "cell_type": "code",
   "source": [
    "image = cv2.imread('images6/car-4445171_1280.jpg')\n",
    "cropped_image = image[333:477, 567:746]\n",
    "\n",
    "crop_height, crop_width, _ = cropped_image.shape\n",
    "print(\"Ширина кадрированного изображения:\", crop_width)\n",
    "print(\"Высота кадрированного изображения:\", crop_height)"
   ],
   "id": "391d8ae354fa0913",
   "outputs": [
    {
     "name": "stdout",
     "output_type": "stream",
     "text": [
      "Ширина кадрированного изображения: 179\n",
      "Высота кадрированного изображения: 144\n"
     ]
    }
   ],
   "execution_count": 7
  },
  {
   "metadata": {
    "ExecuteTime": {
     "end_time": "2025-04-20T12:12:35.183257Z",
     "start_time": "2025-04-20T12:12:35.178385Z"
    }
   },
   "cell_type": "code",
   "source": [
    "gray_image = cv2.cvtColor(image, cv2.COLOR_BGR2GRAY)\n",
    "gray_cropped = cv2.cvtColor(cropped_image, cv2.COLOR_BGR2GRAY)"
   ],
   "id": "81c21f904e09ed41",
   "outputs": [],
   "execution_count": 8
  },
  {
   "metadata": {
    "ExecuteTime": {
     "end_time": "2025-04-20T12:12:36.500196Z",
     "start_time": "2025-04-20T12:12:36.057222Z"
    }
   },
   "cell_type": "code",
   "source": [
    "sift = cv2.SIFT_create()\n",
    "kp1, des1 = sift.detectAndCompute(gray_cropped, None)\n",
    "kp2, des2 = sift.detectAndCompute(gray_image, None)\n",
    "\n",
    "index_params = dict(algorithm=1, trees=5)\n",
    "search_params = dict(checks=50)\n",
    "flann = cv2.FlannBasedMatcher(index_params, search_params)\n",
    "matches = flann.knnMatch(des1, des2, k=2)"
   ],
   "id": "310867010c6fa400",
   "outputs": [],
   "execution_count": 9
  },
  {
   "metadata": {
    "ExecuteTime": {
     "end_time": "2025-04-20T12:12:37.109334Z",
     "start_time": "2025-04-20T12:12:37.102593Z"
    }
   },
   "cell_type": "code",
   "source": [
    "good_matches = []\n",
    "for m, n in matches:\n",
    "    if m.distance < 0.7 * n.distance:\n",
    "        good_matches.append(m)\n",
    "\n",
    "sorted_matches = sorted(good_matches, key=lambda x: x.distance)\n",
    "\n",
    "best_match = sorted_matches[0]\n",
    "keypoint = kp2[best_match.trainIdx]\n",
    "x, y = int(round(keypoint.pt[0])), int(round(keypoint.pt[1]))\n",
    "print(\"Округленные координаты ключевой точки:\", x, y)"
   ],
   "id": "7d777c23b67a5a6d",
   "outputs": [
    {
     "name": "stdout",
     "output_type": "stream",
     "text": [
      "Округленные координаты ключевой точки: 616 391\n"
     ]
    }
   ],
   "execution_count": 10
  },
  {
   "metadata": {
    "ExecuteTime": {
     "end_time": "2025-04-20T12:12:39.097916Z",
     "start_time": "2025-04-20T12:12:39.089357Z"
    }
   },
   "cell_type": "code",
   "source": [
    "B, G, R = image[y, x]\n",
    "print(\"Интенсивность канала B:\", B)\n",
    "print(\"Интенсивность канала G:\", G)\n",
    "print(\"Интенсивность канала R:\", R)"
   ],
   "id": "a5bacab3dcc27c6c",
   "outputs": [
    {
     "name": "stdout",
     "output_type": "stream",
     "text": [
      "Интенсивность канала B: 5\n",
      "Интенсивность канала G: 1\n",
      "Интенсивность канала R: 0\n"
     ]
    }
   ],
   "execution_count": 11
  },
  {
   "metadata": {},
   "cell_type": "code",
   "outputs": [],
   "execution_count": null,
   "source": "",
   "id": "6df694841ef0d712"
  }
 ],
 "metadata": {
  "kernelspec": {
   "display_name": "Python 3",
   "language": "python",
   "name": "python3"
  },
  "language_info": {
   "codemirror_mode": {
    "name": "ipython",
    "version": 2
   },
   "file_extension": ".py",
   "mimetype": "text/x-python",
   "name": "python",
   "nbconvert_exporter": "python",
   "pygments_lexer": "ipython2",
   "version": "2.7.6"
  }
 },
 "nbformat": 4,
 "nbformat_minor": 5
}
